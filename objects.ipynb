{
 "cells": [
  {
   "cell_type": "code",
   "execution_count": 1,
   "id": "affd784a-d5a8-4a36-af57-fd852893f89c",
   "metadata": {},
   "outputs": [],
   "source": [
    "import tensorflow as tf\n",
    "from tensorflow.keras import models, layers, datasets\n",
    "import matplotlib.pyplot as plt\n",
    "from tensorflow.keras.utils import to_categorical"
   ]
  },
  {
   "cell_type": "code",
   "execution_count": 2,
   "id": "72035728-ffa8-4842-bfb2-36d573a6b172",
   "metadata": {},
   "outputs": [],
   "source": [
    "(train_images, train_labels), (test_images, test_labels) = datasets.cifar10.load_data()"
   ]
  },
  {
   "cell_type": "code",
   "execution_count": 7,
   "id": "a13abf9b-ab12-4682-8cab-2a9045a86b0a",
   "metadata": {},
   "outputs": [],
   "source": [
    "train_images = train_images.astype('float32') / 255.0 \n",
    "test_images = test_images.astype('float32') / 255.0\n",
    "train_labels= to_categorical(train_labels, 10)\n",
    "test_labels= to_categorical(test_labels, 10)"
   ]
  },
  {
   "cell_type": "code",
   "execution_count": 8,
   "id": "8a25aa7b-fc37-4bf0-8815-ca483d63384b",
   "metadata": {},
   "outputs": [],
   "source": [
    "class_names = ['Airplane', 'Automobile', 'Bird', 'Cat', 'Deer', 'Dog', 'Frog', 'Horse', 'Ship', 'Truck']"
   ]
  },
  {
   "cell_type": "code",
   "execution_count": null,
   "id": "4cecc562-4391-48d7-bd24-55378c25e7d2",
   "metadata": {},
   "outputs": [],
   "source": [
    "base_model = tf.keras.applications.MobileNetV2(input_shape=(96, 96, 3), include_top=False, weights=\"imagenet\")\n",
    "base_model.trainable= False\n"
   ]
  },
  {
   "cell_type": "code",
   "execution_count": 12,
   "id": "713b8afb-99e0-4669-923f-9b7f8b8fcb5d",
   "metadata": {},
   "outputs": [],
   "source": [
    "data_augmentation = tf.keras.Sequential([\n",
    "    layers.RandomFlip(\"horizontal_and_vertical\"),\n",
    "    layers.RandomRotation(0.2),\n",
    "    layers.RandomZoom(0.2),\n",
    "    layers.RandomHeight(0.2),\n",
    "    layers.RandomWidth(0.2)\n",
    "])"
   ]
  },
  {
   "cell_type": "code",
   "execution_count": null,
   "id": "39e89d1a-a458-4553-8285-eef4bfd03e2d",
   "metadata": {},
   "outputs": [],
   "source": [
    "train_images_resized = tf.image.resize(train_images, (96, 96)) \n",
    "test_images_resized = tf.image.resize(test_images, (96, 96))"
   ]
  },
  {
   "cell_type": "code",
   "execution_count": 60,
   "id": "b3d42bb3-4135-44f4-9aad-585919e562ba",
   "metadata": {},
   "outputs": [],
   "source": [
    "model = models.Sequential([\n",
    "    data_augmentation,\n",
    "    base_model,\n",
    "    layers.GlobalAveragePooling2D(),\n",
    "    layers.Dense(128, activation='relu'),\n",
    "    layers.Dropout(0.5),\n",
    "    layers.Dense(10)\n",
    "])"
   ]
  },
  {
   "cell_type": "code",
   "execution_count": 61,
   "id": "6c55cd85-5d16-42b5-9c23-c06a0da5561b",
   "metadata": {},
   "outputs": [],
   "source": [
    "model.compile(optimizer=tf.keras.optimizers.Adam(learning_rate=1e-4),\n",
    "              loss= tf.keras.losses.SparseCategoricalCrossentropy(from_logits=True),\n",
    "              metrics=['accuracy'])"
   ]
  },
  {
   "cell_type": "code",
   "execution_count": 68,
   "id": "d714f86e-3c97-444e-a2b6-58a8f0bba09d",
   "metadata": {},
   "outputs": [
    {
     "name": "stdout",
     "output_type": "stream",
     "text": [
      "Epoch 1/10\n"
     ]
    },
    {
     "ename": "ValueError",
     "evalue": "Exception encountered when calling Sequential.call().\n\n\u001b[1mInput 0 of layer \"functional\" is incompatible with the layer: expected shape=(None, 32, 32, 3), found shape=(None, 96, 96, 3)\u001b[0m\n\nArguments received by Sequential.call():\n  • args=('<KerasTensor shape=(None, 96, 96, 3), dtype=float32, sparse=None, name=keras_tensor_792>',)\n  • kwargs={'mask': 'None'}",
     "output_type": "error",
     "traceback": [
      "\u001b[1;31m---------------------------------------------------------------------------\u001b[0m",
      "\u001b[1;31mValueError\u001b[0m                                Traceback (most recent call last)",
      "Cell \u001b[1;32mIn[68], line 1\u001b[0m\n\u001b[1;32m----> 1\u001b[0m history \u001b[38;5;241m=\u001b[39m model\u001b[38;5;241m.\u001b[39mfit(train_images_resized, train_labels, epochs\u001b[38;5;241m=\u001b[39m\u001b[38;5;241m10\u001b[39m,\n\u001b[0;32m      2\u001b[0m                     validation_data\u001b[38;5;241m=\u001b[39m (test_images_resized, test_labels))\n",
      "File \u001b[1;32mF:\\anacod\\Lib\\site-packages\\keras\\src\\utils\\traceback_utils.py:122\u001b[0m, in \u001b[0;36mfilter_traceback.<locals>.error_handler\u001b[1;34m(*args, **kwargs)\u001b[0m\n\u001b[0;32m    119\u001b[0m     filtered_tb \u001b[38;5;241m=\u001b[39m _process_traceback_frames(e\u001b[38;5;241m.\u001b[39m__traceback__)\n\u001b[0;32m    120\u001b[0m     \u001b[38;5;66;03m# To get the full stack trace, call:\u001b[39;00m\n\u001b[0;32m    121\u001b[0m     \u001b[38;5;66;03m# `keras.config.disable_traceback_filtering()`\u001b[39;00m\n\u001b[1;32m--> 122\u001b[0m     \u001b[38;5;28;01mraise\u001b[39;00m e\u001b[38;5;241m.\u001b[39mwith_traceback(filtered_tb) \u001b[38;5;28;01mfrom\u001b[39;00m \u001b[38;5;28;01mNone\u001b[39;00m\n\u001b[0;32m    123\u001b[0m \u001b[38;5;28;01mfinally\u001b[39;00m:\n\u001b[0;32m    124\u001b[0m     \u001b[38;5;28;01mdel\u001b[39;00m filtered_tb\n",
      "File \u001b[1;32mF:\\anacod\\Lib\\site-packages\\keras\\src\\layers\\input_spec.py:245\u001b[0m, in \u001b[0;36massert_input_compatibility\u001b[1;34m(input_spec, inputs, layer_name)\u001b[0m\n\u001b[0;32m    243\u001b[0m \u001b[38;5;28;01mif\u001b[39;00m spec_dim \u001b[38;5;129;01mis\u001b[39;00m \u001b[38;5;129;01mnot\u001b[39;00m \u001b[38;5;28;01mNone\u001b[39;00m \u001b[38;5;129;01mand\u001b[39;00m dim \u001b[38;5;129;01mis\u001b[39;00m \u001b[38;5;129;01mnot\u001b[39;00m \u001b[38;5;28;01mNone\u001b[39;00m:\n\u001b[0;32m    244\u001b[0m     \u001b[38;5;28;01mif\u001b[39;00m spec_dim \u001b[38;5;241m!=\u001b[39m dim:\n\u001b[1;32m--> 245\u001b[0m         \u001b[38;5;28;01mraise\u001b[39;00m \u001b[38;5;167;01mValueError\u001b[39;00m(\n\u001b[0;32m    246\u001b[0m             \u001b[38;5;124mf\u001b[39m\u001b[38;5;124m'\u001b[39m\u001b[38;5;124mInput \u001b[39m\u001b[38;5;132;01m{\u001b[39;00minput_index\u001b[38;5;132;01m}\u001b[39;00m\u001b[38;5;124m of layer \u001b[39m\u001b[38;5;124m\"\u001b[39m\u001b[38;5;132;01m{\u001b[39;00mlayer_name\u001b[38;5;132;01m}\u001b[39;00m\u001b[38;5;124m\"\u001b[39m\u001b[38;5;124m is \u001b[39m\u001b[38;5;124m'\u001b[39m\n\u001b[0;32m    247\u001b[0m             \u001b[38;5;124m\"\u001b[39m\u001b[38;5;124mincompatible with the layer: \u001b[39m\u001b[38;5;124m\"\u001b[39m\n\u001b[0;32m    248\u001b[0m             \u001b[38;5;124mf\u001b[39m\u001b[38;5;124m\"\u001b[39m\u001b[38;5;124mexpected shape=\u001b[39m\u001b[38;5;132;01m{\u001b[39;00mspec\u001b[38;5;241m.\u001b[39mshape\u001b[38;5;132;01m}\u001b[39;00m\u001b[38;5;124m, \u001b[39m\u001b[38;5;124m\"\u001b[39m\n\u001b[0;32m    249\u001b[0m             \u001b[38;5;124mf\u001b[39m\u001b[38;5;124m\"\u001b[39m\u001b[38;5;124mfound shape=\u001b[39m\u001b[38;5;132;01m{\u001b[39;00mshape\u001b[38;5;132;01m}\u001b[39;00m\u001b[38;5;124m\"\u001b[39m\n\u001b[0;32m    250\u001b[0m         )\n",
      "\u001b[1;31mValueError\u001b[0m: Exception encountered when calling Sequential.call().\n\n\u001b[1mInput 0 of layer \"functional\" is incompatible with the layer: expected shape=(None, 32, 32, 3), found shape=(None, 96, 96, 3)\u001b[0m\n\nArguments received by Sequential.call():\n  • args=('<KerasTensor shape=(None, 96, 96, 3), dtype=float32, sparse=None, name=keras_tensor_792>',)\n  • kwargs={'mask': 'None'}"
     ]
    }
   ],
   "source": [
    "history = model.fit(train_images_resized, train_labels, epochs=10,\n",
    "                    validation_data= (test_images_resized, test_labels))"
   ]
  },
  {
   "cell_type": "code",
   "execution_count": 44,
   "id": "970dde8c-1f5e-492e-8780-8feec6daf2bf",
   "metadata": {},
   "outputs": [
    {
     "name": "stdout",
     "output_type": "stream",
     "text": [
      "313/313 - 7s - 23ms/step - accuracy: 0.2447 - loss: 2.0361\n",
      "\n",
      "Test accuracy: 0.24469999969005585\n"
     ]
    }
   ],
   "source": [
    "test_loss, test_acc = model.evaluate(test_images, test_labels, verbose =2)\n",
    "print(f'\\nTest accuracy: {test_acc}')"
   ]
  },
  {
   "cell_type": "code",
   "execution_count": 45,
   "id": "1b574725-2096-41ac-9032-ecfb90af5b30",
   "metadata": {},
   "outputs": [
    {
     "name": "stdout",
     "output_type": "stream",
     "text": [
      "\u001b[1m313/313\u001b[0m \u001b[32m━━━━━━━━━━━━━━━━━━━━\u001b[0m\u001b[37m\u001b[0m \u001b[1m12s\u001b[0m 32ms/step\n"
     ]
    }
   ],
   "source": [
    "probability_model = tf.keras.Sequential([model, tf.keras.layers.Softmax()])\n",
    "predictions = probability_model.predict(test_images)"
   ]
  },
  {
   "cell_type": "code",
   "execution_count": 46,
   "id": "a5c08d44-34f8-4d7d-a2ca-f88cd4976d7f",
   "metadata": {},
   "outputs": [
    {
     "data": {
      "image/png": "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",
      "text/plain": [
       "<Figure size 1000x500 with 5 Axes>"
      ]
     },
     "metadata": {},
     "output_type": "display_data"
    }
   ],
   "source": [
    "def plot_image(i, predictions_array, true_label, img):\n",
    "    predictions_array, true_label, img = predictions_array[i], true_label[i], img[i]\n",
    "    plt.grid(False)\n",
    "    plt.xticks([])\n",
    "    plt.yticks([])\n",
    "    plt.imshow(img, cmap=plt.cm.binary)\n",
    "    predicted_label = tf.argmax(predictions_array, axis=-1).numpy()\n",
    "    if predicted_label == true_label:\n",
    "        color = 'blue'\n",
    "    else:\n",
    "        color = 'red'\n",
    "    plt.xlabel(f\"{class_names[predicted_label]} ({100 * tf.reduce_max(predictions_array).numpy():.2f}%)\", color=color)\n",
    "\n",
    "plt.figure(figsize=(10, 5))\n",
    "for i in range(5):\n",
    "    plt.subplot(1, 5, i+1)\n",
    "    plot_image(i, predictions, test_labels, test_images)\n",
    "plt.show()"
   ]
  },
  {
   "cell_type": "code",
   "execution_count": null,
   "id": "515490b9-b4e2-4d19-8aeb-25ecb6cd4077",
   "metadata": {},
   "outputs": [],
   "source": []
  }
 ],
 "metadata": {
  "kernelspec": {
   "display_name": "Python 3 (ipykernel)",
   "language": "python",
   "name": "python3"
  },
  "language_info": {
   "codemirror_mode": {
    "name": "ipython",
    "version": 3
   },
   "file_extension": ".py",
   "mimetype": "text/x-python",
   "name": "python",
   "nbconvert_exporter": "python",
   "pygments_lexer": "ipython3",
   "version": "3.11.7"
  }
 },
 "nbformat": 4,
 "nbformat_minor": 5
}
                                                                                                                                                                
